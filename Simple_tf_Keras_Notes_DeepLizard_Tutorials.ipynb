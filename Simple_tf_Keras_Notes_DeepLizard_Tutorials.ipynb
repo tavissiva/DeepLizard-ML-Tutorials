{
  "nbformat": 4,
  "nbformat_minor": 0,
  "metadata": {
    "colab": {
      "name": "Simple_tf-Keras_Notes_DeepLizard_Tutorials.ipynb",
      "provenance": [],
      "collapsed_sections": [
        "O_qTk54kjclb"
      ],
      "authorship_tag": "ABX9TyM1P1zqIAomIeK2w24AANDB",
      "include_colab_link": true
    },
    "kernelspec": {
      "name": "python3",
      "display_name": "Python 3"
    }
  },
  "cells": [
    {
      "cell_type": "markdown",
      "metadata": {
        "id": "view-in-github",
        "colab_type": "text"
      },
      "source": [
        "<a href=\"https://colab.research.google.com/github/tavissiva/DeepLizard-ML-Tutorials/blob/master/Simple_tf_Keras_Notes_DeepLizard_Tutorials.ipynb\" target=\"_parent\"><img src=\"https://colab.research.google.com/assets/colab-badge.svg\" alt=\"Open In Colab\"/></a>"
      ]
    },
    {
      "cell_type": "markdown",
      "metadata": {
        "id": "O_qTk54kjclb",
        "colab_type": "text"
      },
      "source": [
        "#*Data Preparation & Processing*\n"
      ]
    },
    {
      "cell_type": "code",
      "metadata": {
        "id": "BNliDyclgbsx",
        "colab_type": "code",
        "colab": {}
      },
      "source": [
        "import numpy as np\n",
        "from sklearn.utils import shuffle\n",
        "from sklearn.preprocessing import MinMaxScaler"
      ],
      "execution_count": 1,
      "outputs": []
    },
    {
      "cell_type": "code",
      "metadata": {
        "id": "clmOPBvOkZVA",
        "colab_type": "code",
        "colab": {}
      },
      "source": [
        "X_train_sample = []\n",
        "y_train_label = []"
      ],
      "execution_count": 2,
      "outputs": []
    },
    {
      "cell_type": "markdown",
      "metadata": {
        "id": "iNQEMcRCkt__",
        "colab_type": "text"
      },
      "source": [
        "Example data:\n",
        "\n",
        "\n",
        "*   An experimental drug was tested on individuals ranging from age 13 to 100 in a clinical trial\n",
        "*   The trial had 2100 participants. Half of the participants were under 65 years old, and the other half was 65 years of age or older\n",
        "*   95% of patients 65 or older experienced side effects from the drug\n",
        "*   95% of patients under 65 experienced no side effects\n"
      ]
    },
    {
      "cell_type": "code",
      "metadata": {
        "id": "KmDpyRFsksWe",
        "colab_type": "code",
        "colab": {}
      },
      "source": [
        "# Generatin random example data\n",
        "\n",
        "#5% data\n",
        "for i in range(50):\n",
        "  #5% of patients under 65 who did experienced side effects\n",
        "  random_younger = np.random.randint(13,64)\n",
        "  X_train_sample.append(random_younger)\n",
        "  y_train_label.append(1)\n",
        "\n",
        "  #5% of patients above 65 who did not experienced side effects\n",
        "  random_older = np.random.randint(64,100)\n",
        "  X_train_sample.append(random_older)\n",
        "  y_train_label.append(0)\n",
        "\n",
        "#95% data\n",
        "for i in range(1000):\n",
        "  #95% of patients under 65 who did not experienced side effects\n",
        "  random_younger = np.random.randint(13,64)\n",
        "  X_train_sample.append(random_younger)\n",
        "  y_train_label.append(0)\n",
        "\n",
        "  #95% of patients above 65 who did experienced side effects\n",
        "  random_older = np.random.randint(64,100)\n",
        "  X_train_sample.append(random_older)\n",
        "  y_train_label.append(1)"
      ],
      "execution_count": 3,
      "outputs": []
    },
    {
      "cell_type": "markdown",
      "metadata": {
        "id": "3IKfN9uJrdHU",
        "colab_type": "text"
      },
      "source": [
        "\n",
        "\n",
        "```\n",
        "for i in X_train_sample:\n",
        "  print(i, end=\", \")\n",
        "for i in y_train_label:\n",
        "  print(i, end=\", \")\n",
        "```\n",
        "\n"
      ]
    },
    {
      "cell_type": "code",
      "metadata": {
        "id": "7B6EiLZYrZ1v",
        "colab_type": "code",
        "colab": {}
      },
      "source": [
        "# Shuffling data\n",
        "X_train_sample = np.array(X_train_sample)\n",
        "y_train_label = np.array(y_train_label)\n",
        "\n",
        "X_train_sample, y_train_label = shuffle(X_train_sample, y_train_label)"
      ],
      "execution_count": 4,
      "outputs": []
    },
    {
      "cell_type": "code",
      "metadata": {
        "id": "wss1FduMsLVC",
        "colab_type": "code",
        "colab": {
          "base_uri": "https://localhost:8080/",
          "height": 0
        },
        "outputId": "8c6ddb0c-b96a-4d22-eb8e-be82ec21d2d6"
      },
      "source": [
        "#scaling down the train_sample between 0 and 1\n",
        "scaler = MinMaxScaler(feature_range=(0,1))\n",
        "X_train_sample = scaler.fit_transform(X_train_sample.reshape(-1,1))\n",
        "print(X_train_sample)"
      ],
      "execution_count": 5,
      "outputs": [
        {
          "output_type": "stream",
          "text": [
            "[[0.13953488]\n",
            " [0.76744186]\n",
            " [0.39534884]\n",
            " ...\n",
            " [0.01162791]\n",
            " [0.68604651]\n",
            " [0.81395349]]\n"
          ],
          "name": "stdout"
        }
      ]
    },
    {
      "cell_type": "code",
      "metadata": {
        "id": "WSy1t6Ejfnv1",
        "colab_type": "code",
        "colab": {}
      },
      "source": [
        "#Test Label Generator\n",
        "X_test_sample = []\n",
        "y_test_label = []\n",
        "\n",
        "for i in range(5):\n",
        "  random_younger = np.random.randint(13,64)\n",
        "  X_test_sample.append(random_younger)\n",
        "  y_test_label.append(1)\n",
        "\n",
        "  random_older = np.random.randint(64,100)\n",
        "  X_test_sample.append(random_older)\n",
        "  y_test_label.append(0)\n",
        "\n",
        "#95% data\n",
        "for i in range(50):\n",
        "  random_younger = np.random.randint(13,64)\n",
        "  X_test_sample.append(random_younger)\n",
        "  y_test_label.append(0)\n",
        "\n",
        "  #95% of patients above 65 who did experienced side effects\n",
        "  random_older = np.random.randint(64,100)\n",
        "  X_test_sample.append(random_older)\n",
        "  y_test_label.append(1)\n",
        "\n",
        "X_test_sample = np.array(X_test_sample)\n",
        "y_test_label = np.array(y_test_label)\n",
        "\n",
        "X_test_sample, y_test_label = shuffle(X_test_sample, y_test_label)\n",
        "\n",
        "scaler = MinMaxScaler(feature_range=(0,1))\n",
        "X_test_sample = scaler.fit_transform(X_test_sample.reshape(-1,1))\n"
      ],
      "execution_count": 6,
      "outputs": []
    },
    {
      "cell_type": "markdown",
      "metadata": {
        "id": "7CO8qn1OuIWr",
        "colab_type": "text"
      },
      "source": [
        "# Simple Keras Sequential Model \n",
        "##### Neural Network"
      ]
    },
    {
      "cell_type": "code",
      "metadata": {
        "id": "vngCjye5ugME",
        "colab_type": "code",
        "colab": {}
      },
      "source": [
        "import tensorflow as tf\n",
        "from tensorflow import keras\n",
        "from tensorflow.keras.models import Sequential\n",
        "from tensorflow.keras.layers import Dense, Activation\n",
        "from tensorflow.keras.optimizers import Adam\n",
        "from tensorflow.keras.metrics import categorical_crossentropy"
      ],
      "execution_count": 32,
      "outputs": []
    },
    {
      "cell_type": "code",
      "metadata": {
        "id": "zD_Y6dRGvpHL",
        "colab_type": "code",
        "colab": {
          "base_uri": "https://localhost:8080/",
          "height": 51
        },
        "outputId": "656f0b20-3e11-4635-a2da-6d823ac613cc"
      },
      "source": [
        "physical_devices = tf.config.experimental.list_physical_devices('GPU')\n",
        "print(\"Num of GPU available \",len(physical_devices))\n",
        "if physical_devices:\n",
        "  tf.config.experimental.set_memory_growth(physical_devices[0], True)\n",
        "  print(\"Choosen GPU\")\n",
        "else:\n",
        "  print(\"Choosen CPU\")"
      ],
      "execution_count": 33,
      "outputs": [
        {
          "output_type": "stream",
          "text": [
            "Num of GPU available  0\n",
            "Choosen CPU\n"
          ],
          "name": "stdout"
        }
      ]
    },
    {
      "cell_type": "code",
      "metadata": {
        "id": "lGdVfXL4v3Zd",
        "colab_type": "code",
        "colab": {}
      },
      "source": [
        "model = Sequential([\n",
        "                    Dense(units=16, input_shape=(1,), activation='relu'),\n",
        "                    Dense(units=32, activation='relu'),\n",
        "                    Dense(units=2, activation='softmax')\n",
        "])"
      ],
      "execution_count": 34,
      "outputs": []
    },
    {
      "cell_type": "code",
      "metadata": {
        "id": "sEIVrSxmxhCj",
        "colab_type": "code",
        "colab": {
          "base_uri": "https://localhost:8080/",
          "height": 255
        },
        "outputId": "5b199cb0-624f-46b8-a325-3e76c3149b7d"
      },
      "source": [
        "model.summary()"
      ],
      "execution_count": 35,
      "outputs": [
        {
          "output_type": "stream",
          "text": [
            "Model: \"sequential_1\"\n",
            "_________________________________________________________________\n",
            "Layer (type)                 Output Shape              Param #   \n",
            "=================================================================\n",
            "dense_3 (Dense)              (None, 16)                32        \n",
            "_________________________________________________________________\n",
            "dense_4 (Dense)              (None, 32)                544       \n",
            "_________________________________________________________________\n",
            "dense_5 (Dense)              (None, 2)                 66        \n",
            "=================================================================\n",
            "Total params: 642\n",
            "Trainable params: 642\n",
            "Non-trainable params: 0\n",
            "_________________________________________________________________\n"
          ],
          "name": "stdout"
        }
      ]
    },
    {
      "cell_type": "code",
      "metadata": {
        "id": "hKoxdIxMyXPZ",
        "colab_type": "code",
        "colab": {}
      },
      "source": [
        "model.compile(\n",
        "    optimizer=Adam(lr=0.0001), \n",
        "    loss = 'sparse_categorical_crossentropy',\n",
        "    metrics=['accuracy'],  \n",
        ")"
      ],
      "execution_count": 36,
      "outputs": []
    },
    {
      "cell_type": "code",
      "metadata": {
        "id": "_3fhAkdQzTv4",
        "colab_type": "code",
        "colab": {
          "base_uri": "https://localhost:8080/",
          "height": 714
        },
        "outputId": "984757cf-a774-49ba-dfcd-232b9ec27f88"
      },
      "source": [
        "model.fit(\n",
        "    X_train_sample,\n",
        "    y_train_label,\n",
        "    validation_split = 0.1,\n",
        "    batch_size=10,\n",
        "    epochs=20,\n",
        "    shuffle=True)"
      ],
      "execution_count": 37,
      "outputs": [
        {
          "output_type": "stream",
          "text": [
            "Epoch 1/20\n",
            "189/189 [==============================] - 0s 2ms/step - loss: 0.7128 - accuracy: 0.4915 - val_loss: 0.7015 - val_accuracy: 0.4571\n",
            "Epoch 2/20\n",
            "189/189 [==============================] - 0s 2ms/step - loss: 0.6869 - accuracy: 0.7212 - val_loss: 0.6739 - val_accuracy: 0.7857\n",
            "Epoch 3/20\n",
            "189/189 [==============================] - 0s 1ms/step - loss: 0.6632 - accuracy: 0.7979 - val_loss: 0.6478 - val_accuracy: 0.7810\n",
            "Epoch 4/20\n",
            "189/189 [==============================] - 0s 1ms/step - loss: 0.6382 - accuracy: 0.7862 - val_loss: 0.6200 - val_accuracy: 0.7810\n",
            "Epoch 5/20\n",
            "189/189 [==============================] - 0s 1ms/step - loss: 0.6107 - accuracy: 0.7804 - val_loss: 0.5907 - val_accuracy: 0.7952\n",
            "Epoch 6/20\n",
            "189/189 [==============================] - 0s 1ms/step - loss: 0.5811 - accuracy: 0.8037 - val_loss: 0.5591 - val_accuracy: 0.8238\n",
            "Epoch 7/20\n",
            "189/189 [==============================] - 0s 1ms/step - loss: 0.5498 - accuracy: 0.8259 - val_loss: 0.5267 - val_accuracy: 0.8333\n",
            "Epoch 8/20\n",
            "189/189 [==============================] - 0s 1ms/step - loss: 0.5186 - accuracy: 0.8344 - val_loss: 0.4965 - val_accuracy: 0.8667\n",
            "Epoch 9/20\n",
            "189/189 [==============================] - 0s 1ms/step - loss: 0.4878 - accuracy: 0.8561 - val_loss: 0.4666 - val_accuracy: 0.8905\n",
            "Epoch 10/20\n",
            "189/189 [==============================] - 0s 1ms/step - loss: 0.4588 - accuracy: 0.8704 - val_loss: 0.4391 - val_accuracy: 0.9000\n",
            "Epoch 11/20\n",
            "189/189 [==============================] - 0s 1ms/step - loss: 0.4327 - accuracy: 0.8847 - val_loss: 0.4142 - val_accuracy: 0.9095\n",
            "Epoch 12/20\n",
            "189/189 [==============================] - 0s 1ms/step - loss: 0.4092 - accuracy: 0.8889 - val_loss: 0.3924 - val_accuracy: 0.9095\n",
            "Epoch 13/20\n",
            "189/189 [==============================] - 0s 1ms/step - loss: 0.3888 - accuracy: 0.8979 - val_loss: 0.3731 - val_accuracy: 0.9190\n",
            "Epoch 14/20\n",
            "189/189 [==============================] - 0s 1ms/step - loss: 0.3712 - accuracy: 0.9042 - val_loss: 0.3570 - val_accuracy: 0.9190\n",
            "Epoch 15/20\n",
            "189/189 [==============================] - 0s 1ms/step - loss: 0.3560 - accuracy: 0.9074 - val_loss: 0.3421 - val_accuracy: 0.9190\n",
            "Epoch 16/20\n",
            "189/189 [==============================] - 0s 1ms/step - loss: 0.3429 - accuracy: 0.9122 - val_loss: 0.3301 - val_accuracy: 0.9238\n",
            "Epoch 17/20\n",
            "189/189 [==============================] - 0s 1ms/step - loss: 0.3319 - accuracy: 0.9148 - val_loss: 0.3192 - val_accuracy: 0.9238\n",
            "Epoch 18/20\n",
            "189/189 [==============================] - 0s 1ms/step - loss: 0.3225 - accuracy: 0.9143 - val_loss: 0.3105 - val_accuracy: 0.9381\n",
            "Epoch 19/20\n",
            "189/189 [==============================] - 0s 1ms/step - loss: 0.3144 - accuracy: 0.9169 - val_loss: 0.3025 - val_accuracy: 0.9381\n",
            "Epoch 20/20\n",
            "189/189 [==============================] - 0s 1ms/step - loss: 0.3075 - accuracy: 0.9164 - val_loss: 0.2952 - val_accuracy: 0.9381\n"
          ],
          "name": "stdout"
        },
        {
          "output_type": "execute_result",
          "data": {
            "text/plain": [
              "<tensorflow.python.keras.callbacks.History at 0x7fdea3e60710>"
            ]
          },
          "metadata": {
            "tags": []
          },
          "execution_count": 37
        }
      ]
    },
    {
      "cell_type": "code",
      "metadata": {
        "id": "bYajQldJ0JNB",
        "colab_type": "code",
        "colab": {
          "base_uri": "https://localhost:8080/",
          "height": 102
        },
        "outputId": "194c5ade-101b-4f1a-eed5-a803a8b0c7b3"
      },
      "source": [
        "predict = model.predict(X_test_sample, batch_size=5)\n",
        "print(predict[:5])\n",
        "model.save(\"sample_model.h5\")"
      ],
      "execution_count": 48,
      "outputs": [
        {
          "output_type": "stream",
          "text": [
            "[[0.31556225 0.68443775]\n",
            " [0.16336332 0.83663666]\n",
            " [0.11760924 0.88239074]\n",
            " [0.07645235 0.9235476 ]\n",
            " [0.7387661  0.26123396]]\n"
          ],
          "name": "stdout"
        }
      ]
    },
    {
      "cell_type": "code",
      "metadata": {
        "id": "OwDUAIDog9lx",
        "colab_type": "code",
        "colab": {
          "base_uri": "https://localhost:8080/",
          "height": 68
        },
        "outputId": "c6adca46-f9f8-45c7-825b-8ccf0bbe0fc6"
      },
      "source": [
        "round_predict = model.predict_classes(X_test_sample, batch_size=5)\n",
        "print(round_predict)\n"
      ],
      "execution_count": 39,
      "outputs": [
        {
          "output_type": "stream",
          "text": [
            "[1 1 1 1 0 1 1 0 0 0 1 1 1 0 0 0 0 0 1 0 1 1 1 0 0 1 1 0 0 0 1 1 0 1 1 0 0\n",
            " 0 1 1 1 1 0 0 1 1 1 1 0 0 1 1 0 0 1 1 1 0 1 0 1 1 0 0 0 0 1 1 0 0 1 0 0 1\n",
            " 0 0 1 1 1 1 0 1 1 0 1 0 1 0 0 1 1 0 1 1 0 0 1 1 0 0 1 1 0 1 1 1 0 1 0 0]\n"
          ],
          "name": "stdout"
        }
      ]
    },
    {
      "cell_type": "markdown",
      "metadata": {
        "id": "OcyOfnzriJw0",
        "colab_type": "text"
      },
      "source": [
        "#Confusion Matrix\n"
      ]
    },
    {
      "cell_type": "code",
      "metadata": {
        "id": "VIVhhvZfiW-j",
        "colab_type": "code",
        "colab": {}
      },
      "source": [
        "%matplotlib inline\n",
        "from sklearn.metrics import confusion_matrix\n",
        "import matplotlib.pyplot as plt\n",
        "import itertools\n"
      ],
      "execution_count": 40,
      "outputs": []
    },
    {
      "cell_type": "code",
      "metadata": {
        "id": "qOaVtFe-kR7A",
        "colab_type": "code",
        "colab": {
          "base_uri": "https://localhost:8080/",
          "height": 51
        },
        "outputId": "a0c0dedc-a612-4b95-bdcb-72c4a330b29a"
      },
      "source": [
        "cm = confusion_matrix(y_test_label, round_predict)\n",
        "print(cm)"
      ],
      "execution_count": 41,
      "outputs": [
        {
          "output_type": "stream",
          "text": [
            "[[46  9]\n",
            " [ 5 50]]\n"
          ],
          "name": "stdout"
        }
      ]
    },
    {
      "cell_type": "code",
      "metadata": {
        "id": "32iMIwN9kmQv",
        "colab_type": "code",
        "colab": {}
      },
      "source": [
        "def plot_confusion_matrix(cm, classes, title=\"Confusion Matrix\", normalize=False, cmap = plt.cm.Blues):\n",
        "\n",
        "  plt.imshow(cm, interpolation='nearest', cmap=plt.cm.Blues)\n",
        "  plt.title(title)\n",
        "  plt.colorbar()\n",
        "  tick_marks = np.arange(len(classes))\n",
        "  plt.xticks(tick_marks, classes, rotation=45)\n",
        "  plt.yticks(tick_marks, classes)\n",
        "\n",
        "  if normalize==True:\n",
        "    # cm = cm.astype(float)/cm.sum(axis=1)[:, np.newaxis]\n",
        "    cm = cm.astype(float)/cm.sum(axis=1)\n",
        "    print(\"Normalized Confusion Matrix \")\n",
        "  else:\n",
        "    print(\"Confusion Matrix without Normalized\")\n",
        "  print(cm)\n",
        "\n",
        "  thresh = cm.max() / 2\n",
        "  for i, j in itertools.product(range(cm.shape[0]), range(cm.shape[1])):\n",
        "    plt.text(j, i, round(cm[i, j], 4), horizontalalignment=\"center\", color=\"white\" if cm[i,j]>thresh else \"black\")\n",
        "  plt.tight_layout()\n",
        "  plt.ylabel(\"True label\")\n",
        "  plt.xlabel(\"Predict label\")\n"
      ],
      "execution_count": 42,
      "outputs": []
    },
    {
      "cell_type": "code",
      "metadata": {
        "id": "VOQhe-OOuA7E",
        "colab_type": "code",
        "colab": {
          "base_uri": "https://localhost:8080/",
          "height": 362
        },
        "outputId": "61fa5633-e565-41b8-8a76-ee99aabd5035"
      },
      "source": [
        "cm_plot_label = ['no_side_effects', 'side_effects']\n",
        "plot_confusion_matrix(cm, classes=cm_plot_label, normalize=True)"
      ],
      "execution_count": 43,
      "outputs": [
        {
          "output_type": "stream",
          "text": [
            "Normalized Confusion Matrix \n",
            "[[0.83636364 0.16363636]\n",
            " [0.09090909 0.90909091]]\n"
          ],
          "name": "stdout"
        },
        {
          "output_type": "display_data",
          "data": {
            "image/png": "[encoded data removed]",
            "text/plain": [
              "<Figure size 432x288 with 2 Axes>"
            ]
          },
          "metadata": {
            "tags": [],
            "needs_background": "light"
          }
        }
      ]
    },
    {
      "cell_type": "code",
      "metadata": {
        "id": "zPLwR9qgugZn",
        "colab_type": "code",
        "colab": {}
      },
      "source": [
        ""
      ],
      "execution_count": 43,
      "outputs": []
    },
    {
      "cell_type": "markdown",
      "metadata": {
        "id": "MW4bxTON6Bdh",
        "colab_type": "text"
      },
      "source": [
        "#Save and Load Model\n"
      ]
    },
    {
      "cell_type": "markdown",
      "metadata": {
        "id": "CwobOn7u6IrY",
        "colab_type": "text"
      },
      "source": [
        "1.model.save()"
      ]
    },
    {
      "cell_type": "code",
      "metadata": {
        "id": "HHjVdYt29cn4",
        "colab_type": "code",
        "colab": {}
      },
      "source": [
        "import os\n",
        "from tensorflow.keras.models import load_model"
      ],
      "execution_count": 52,
      "outputs": []
    },
    {
      "cell_type": "code",
      "metadata": {
        "id": "RJm8G22L6GNi",
        "colab_type": "code",
        "colab": {}
      },
      "source": [
        "if not os.path.isdir(\"modelcheckpoint\"):\n",
        "  os.mkdir(\"modelcheckpoint\")\n",
        "  model.save(\"modelcheckpoint/train_model.h5\")"
      ],
      "execution_count": 53,
      "outputs": []
    },
    {
      "cell_type": "markdown",
      "metadata": {
        "id": "TldoG5H-7zY6",
        "colab_type": "text"
      },
      "source": [
        "This save function saves:\n",
        "\n",
        "\n",
        "*   The architecture of the model which used to create a exact model\n",
        "*   The Weights of the model\n",
        "*   The Training configuration ( loss, optimizer)\n",
        "*   The State of the optimizer, allowing to resume training exactly where it is stopped.\n",
        "\n",
        "\n",
        "\n",
        "\n"
      ]
    },
    {
      "cell_type": "code",
      "metadata": {
        "id": "DQv0tUGO7Z-x",
        "colab_type": "code",
        "colab": {}
      },
      "source": [
        "new_model = load_model(\"modelcheckpoint/train_model.h5\")"
      ],
      "execution_count": 54,
      "outputs": []
    },
    {
      "cell_type": "code",
      "metadata": {
        "id": "ZqiOzJNz-ui3",
        "colab_type": "code",
        "colab": {
          "base_uri": "https://localhost:8080/",
          "height": 255
        },
        "outputId": "3459b0dc-7c67-49b1-d15c-0218f231fa3e"
      },
      "source": [
        "new_model.summary()"
      ],
      "execution_count": 55,
      "outputs": [
        {
          "output_type": "stream",
          "text": [
            "Model: \"sequential\"\n",
            "_________________________________________________________________\n",
            "Layer (type)                 Output Shape              Param #   \n",
            "=================================================================\n",
            "dense (Dense)                (None, 16)                32        \n",
            "_________________________________________________________________\n",
            "dense_1 (Dense)              (None, 32)                544       \n",
            "_________________________________________________________________\n",
            "dense_2 (Dense)              (None, 2)                 66        \n",
            "=================================================================\n",
            "Total params: 642\n",
            "Trainable params: 642\n",
            "Non-trainable params: 0\n",
            "_________________________________________________________________\n"
          ],
          "name": "stdout"
        }
      ]
    },
    {
      "cell_type": "code",
      "metadata": {
        "id": "jFWPM-qB-wb5",
        "colab_type": "code",
        "colab": {}
      },
      "source": [
        "model.get_weights()"
      ],
      "execution_count": null,
      "outputs": []
    },
    {
      "cell_type": "code",
      "metadata": {
        "id": "U6Lm7VdVC_xN",
        "colab_type": "code",
        "colab": {
          "base_uri": "https://localhost:8080/",
          "height": 34
        },
        "outputId": "61999240-4392-4df5-b93e-2d83c440f07c"
      },
      "source": [
        "new_model.optimizer"
      ],
      "execution_count": 71,
      "outputs": [
        {
          "output_type": "execute_result",
          "data": {
            "text/plain": [
              "<tensorflow.python.keras.optimizer_v2.adam.Adam at 0x7fdea3e906d8>"
            ]
          },
          "metadata": {
            "tags": []
          },
          "execution_count": 71
        }
      ]
    },
    {
      "cell_type": "markdown",
      "metadata": {
        "id": "0DLFszUSEAwS",
        "colab_type": "text"
      },
      "source": [
        "2.model.to_json()\n",
        "\n",
        "It saves only the architecture of a model and not it's weights or training  configuration."
      ]
    },
    {
      "cell_type": "code",
      "metadata": {
        "id": "3K7bNb87EAKT",
        "colab_type": "code",
        "colab": {
          "base_uri": "https://localhost:8080/",
          "height": 137
        },
        "outputId": "d6ebfbbb-c599-4b70-f24f-b06a4ed92a9d"
      },
      "source": [
        "json_string = model.to_json()\n",
        "#for yaml\n",
        "#yaml_string = model.to_yaml()\n",
        "json_string"
      ],
      "execution_count": 75,
      "outputs": [
        {
          "output_type": "execute_result",
          "data": {
            "application/vnd.google.colaboratory.intrinsic": {
              "type": "string"
            },
            "text/plain": [
              "'{\"class_name\": \"Sequential\", \"config\": {\"name\": \"sequential_1\", \"layers\": [{\"class_name\": \"Dense\", \"config\": {\"name\": \"dense_3\", \"trainable\": true, \"batch_input_shape\": [null, 1], \"dtype\": \"float32\", \"units\": 16, \"activation\": \"relu\", \"use_bias\": true, \"kernel_initializer\": {\"class_name\": \"GlorotUniform\", \"config\": {\"seed\": null}}, \"bias_initializer\": {\"class_name\": \"Zeros\", \"config\": {}}, \"kernel_regularizer\": null, \"bias_regularizer\": null, \"activity_regularizer\": null, \"kernel_constraint\": null, \"bias_constraint\": null}}, {\"class_name\": \"Dense\", \"config\": {\"name\": \"dense_4\", \"trainable\": true, \"dtype\": \"float32\", \"units\": 32, \"activation\": \"relu\", \"use_bias\": true, \"kernel_initializer\": {\"class_name\": \"GlorotUniform\", \"config\": {\"seed\": null}}, \"bias_initializer\": {\"class_name\": \"Zeros\", \"config\": {}}, \"kernel_regularizer\": null, \"bias_regularizer\": null, \"activity_regularizer\": null, \"kernel_constraint\": null, \"bias_constraint\": null}}, {\"class_name\": \"Dense\", \"config\": {\"name\": \"dense_5\", \"trainable\": true, \"dtype\": \"float32\", \"units\": 2, \"activation\": \"softmax\", \"use_bias\": true, \"kernel_initializer\": {\"class_name\": \"GlorotUniform\", \"config\": {\"seed\": null}}, \"bias_initializer\": {\"class_name\": \"Zeros\", \"config\": {}}, \"kernel_regularizer\": null, \"bias_regularizer\": null, \"activity_regularizer\": null, \"kernel_constraint\": null, \"bias_constraint\": null}}], \"build_input_shape\": [null, 1]}, \"keras_version\": \"2.3.0-tf\", \"backend\": \"tensorflow\"}'"
            ]
          },
          "metadata": {
            "tags": []
          },
          "execution_count": 75
        }
      ]
    },
    {
      "cell_type": "code",
      "metadata": {
        "id": "iKb09pWnDYRm",
        "colab_type": "code",
        "colab": {}
      },
      "source": [
        "from tensorflow.keras.models import model_from_json\n",
        "model_architecture = model_from_json(json_string)\n",
        "\n",
        "#model_from_yaml(yaml_string)"
      ],
      "execution_count": 76,
      "outputs": []
    },
    {
      "cell_type": "code",
      "metadata": {
        "id": "IqJCNUVdFJyv",
        "colab_type": "code",
        "colab": {
          "base_uri": "https://localhost:8080/",
          "height": 255
        },
        "outputId": "0fa7aa05-757e-4980-9a5b-99d35f812836"
      },
      "source": [
        "model_architecture.summary()"
      ],
      "execution_count": 77,
      "outputs": [
        {
          "output_type": "stream",
          "text": [
            "Model: \"sequential_1\"\n",
            "_________________________________________________________________\n",
            "Layer (type)                 Output Shape              Param #   \n",
            "=================================================================\n",
            "dense_3 (Dense)              (None, 16)                32        \n",
            "_________________________________________________________________\n",
            "dense_4 (Dense)              (None, 32)                544       \n",
            "_________________________________________________________________\n",
            "dense_5 (Dense)              (None, 2)                 66        \n",
            "=================================================================\n",
            "Total params: 642\n",
            "Trainable params: 642\n",
            "Non-trainable params: 0\n",
            "_________________________________________________________________\n"
          ],
          "name": "stdout"
        }
      ]
    },
    {
      "cell_type": "markdown",
      "metadata": {
        "id": "J18KeGnQFW9h",
        "colab_type": "text"
      },
      "source": [
        "3. model.save_weights()\n",
        "\n",
        " It will saves only the model weights."
      ]
    },
    {
      "cell_type": "code",
      "metadata": {
        "id": "ZSHAsPzGFP34",
        "colab_type": "code",
        "colab": {}
      },
      "source": [
        "model.save_weights(\"train_weights_model.h5\")"
      ],
      "execution_count": 78,
      "outputs": []
    },
    {
      "cell_type": "code",
      "metadata": {
        "id": "ZCG30MPxGTQ4",
        "colab_type": "code",
        "colab": {}
      },
      "source": [
        "model2 = Sequential([\n",
        "                    Dense(units=16, input_shape=(1,), activation='relu'),\n",
        "                    Dense(units=32, activation='relu'),\n",
        "                    Dense(units=2, activation='softmax')\n",
        "])"
      ],
      "execution_count": 79,
      "outputs": []
    },
    {
      "cell_type": "code",
      "metadata": {
        "id": "jxvscRmJGrna",
        "colab_type": "code",
        "colab": {}
      },
      "source": [
        "model2.load_weights(\"train_weights_model.h5\")"
      ],
      "execution_count": 80,
      "outputs": []
    },
    {
      "cell_type": "code",
      "metadata": {
        "id": "1L4xzKT8G1n9",
        "colab_type": "code",
        "colab": {}
      },
      "source": [
        ""
      ],
      "execution_count": null,
      "outputs": []
    }
  ]
}